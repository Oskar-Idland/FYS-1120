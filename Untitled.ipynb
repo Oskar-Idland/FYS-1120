{
 "cells": [
  {
   "cell_type": "code",
   "execution_count": 2,
   "id": "b100f502-b342-4d00-bd98-c8a76ac25099",
   "metadata": {},
   "outputs": [
    {
     "name": "stderr",
     "output_type": "stream",
     "text": [
      "C:\\Users\\oskar\\AppData\\Local\\Temp\\ipykernel_39140\\302291492.py:11: DeprecationWarning: `np.float` is a deprecated alias for the builtin `float`. To silence this warning, use `float` by itself. Doing this will not modify any behavior and is safe. If you specifically wanted the numpy scalar type, use `np.float64` here.\n",
      "Deprecated in NumPy 1.20; for more details and guidance: https://numpy.org/devdocs/release/1.20.0-notes.html#deprecations\n",
      "  b[ix,iy] = np.float('nan')\n"
     ]
    },
    {
     "ename": "NameError",
     "evalue": "name 'solvepoissonvonneumann' is not defined",
     "output_type": "error",
     "traceback": [
      "\u001b[1;31m---------------------------------------------------------------------------\u001b[0m",
      "\u001b[1;31mNameError\u001b[0m                                 Traceback (most recent call last)",
      "Input \u001b[1;32mIn [2]\u001b[0m, in \u001b[0;36m<cell line: 15>\u001b[1;34m()\u001b[0m\n\u001b[0;32m     13\u001b[0m b[\u001b[38;5;28mint\u001b[39m(L\u001b[38;5;241m*\u001b[39m\u001b[38;5;241m0.5\u001b[39m),\u001b[38;5;28mint\u001b[39m(L\u001b[38;5;241m*\u001b[39m\u001b[38;5;241m0.5\u001b[39m)] \u001b[38;5;241m=\u001b[39m \u001b[38;5;241m1.0\u001b[39m\n\u001b[0;32m     14\u001b[0m \u001b[38;5;66;03m# Regn ut elektrisk potensial og felt\u001b[39;00m\n\u001b[1;32m---> 15\u001b[0m V \u001b[38;5;241m=\u001b[39m \u001b[43msolvepoissonvonneumann\u001b[49m(b,\u001b[38;5;241m10000\u001b[39m)\n\u001b[0;32m     16\u001b[0m Ey,Ex \u001b[38;5;241m=\u001b[39m np\u001b[38;5;241m.\u001b[39mgradient(\u001b[38;5;241m-\u001b[39mV)\n\u001b[0;32m     17\u001b[0m \u001b[38;5;66;03m# Visualisering av potensial og felt\u001b[39;00m\n",
      "\u001b[1;31mNameError\u001b[0m: name 'solvepoissonvonneumann' is not defined"
     ]
    }
   ],
   "source": [
    "# Definere randverdier\n",
    "import numpy as np\n",
    "\n",
    "L = 100\n",
    "b = np.zeros((L,L))\n",
    "# Lag kvadratisk hull\n",
    "L0 = int(L*0.2)\n",
    "L1 = int(L*0.8)\n",
    "for ix in range(L0,L1):\n",
    "    for iy in range(L0,L1):\n",
    "        b[ix,iy] = np.float('nan')\n",
    "# Plasser enkelt ladning\n",
    "b[int(L*0.5),int(L*0.5)] = 1.0\n",
    "# Regn ut elektrisk potensial og felt\n",
    "V = solvepoissonvonneumann(b,10000)\n",
    "Ey,Ex = np.gradient(-V)\n",
    "# Visualisering av potensial og felt\n",
    "x = np.linspace(0,L-1,L)\n",
    "y = np.linspace(0,L-1,L)\n",
    "plt.figure(figsize=(7,7))\n",
    "plt.streamplot(x,y,Ex,Ey)"
   ]
  },
  {
   "cell_type": "code",
   "execution_count": null,
   "id": "377e8186-0f03-4f71-bbff-65ad801f49d7",
   "metadata": {},
   "outputs": [],
   "source": []
  }
 ],
 "metadata": {
  "kernelspec": {
   "display_name": "Python 3 (ipykernel)",
   "language": "python",
   "name": "python3"
  },
  "language_info": {
   "codemirror_mode": {
    "name": "ipython",
    "version": 3
   },
   "file_extension": ".py",
   "mimetype": "text/x-python",
   "name": "python",
   "nbconvert_exporter": "python",
   "pygments_lexer": "ipython3",
   "version": "3.9.12"
  }
 },
 "nbformat": 4,
 "nbformat_minor": 5
}
